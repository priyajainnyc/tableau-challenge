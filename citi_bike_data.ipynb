{
 "cells": [
  {
   "cell_type": "code",
   "execution_count": 6,
   "metadata": {},
   "outputs": [],
   "source": [
    "#import dependencies\n",
    "import pandas as pd"
   ]
  },
  {
   "cell_type": "code",
   "execution_count": 7,
   "metadata": {},
   "outputs": [
    {
     "name": "stderr",
     "output_type": "stream",
     "text": [
      "C:\\Users\\priya\\AppData\\Local\\Temp\\ipykernel_34380\\770763627.py:2: DtypeWarning: Columns (5,7) have mixed types. Specify dtype option on import or set low_memory=False.\n",
      "  citi_bike_mar22 = pd.read_csv('Resources/202203-citibike-tripdata.csv')\n",
      "C:\\Users\\priya\\AppData\\Local\\Temp\\ipykernel_34380\\770763627.py:3: DtypeWarning: Columns (5,7) have mixed types. Specify dtype option on import or set low_memory=False.\n",
      "  citi_bike_jun22 = pd.read_csv('Resources/202206-citibike-tripdata.csv')\n",
      "C:\\Users\\priya\\AppData\\Local\\Temp\\ipykernel_34380\\770763627.py:4: DtypeWarning: Columns (5,7) have mixed types. Specify dtype option on import or set low_memory=False.\n",
      "  citi_bike_sept22 = pd.read_csv('Resources/202209-citibike-tripdata.csv')\n",
      "C:\\Users\\priya\\AppData\\Local\\Temp\\ipykernel_34380\\770763627.py:5: DtypeWarning: Columns (5,7) have mixed types. Specify dtype option on import or set low_memory=False.\n",
      "  citi_bike_dec22 = pd.read_csv('Resources/202212-citibike-tripdata.csv')\n"
     ]
    }
   ],
   "source": [
    "# Load the data from the past year at four seasonal points for nyc\n",
    "citi_bike_mar22 = pd.read_csv('Resources/202203-citibike-tripdata.csv')\n",
    "citi_bike_jun22 = pd.read_csv('Resources/202206-citibike-tripdata.csv')\n",
    "citi_bike_sept22 = pd.read_csv('Resources/202209-citibike-tripdata.csv')\n",
    "citi_bike_dec22 = pd.read_csv('Resources/202212-citibike-tripdata.csv')"
   ]
  },
  {
   "cell_type": "code",
   "execution_count": 8,
   "metadata": {},
   "outputs": [
    {
     "data": {
      "text/plain": [
       "10483102"
      ]
     },
     "execution_count": 8,
     "metadata": {},
     "output_type": "execute_result"
    }
   ],
   "source": [
    "# add all the number of rows for each dataframe\n",
    "total_rows = 0\n",
    "total_rows += citi_bike_mar22.shape[0]\n",
    "total_rows += citi_bike_jun22.shape[0]\n",
    "total_rows += citi_bike_sept22.shape[0]\n",
    "total_rows += citi_bike_dec22.shape[0]\n",
    "total_rows"
   ]
  },
  {
   "cell_type": "code",
   "execution_count": 9,
   "metadata": {},
   "outputs": [],
   "source": [
    "citi_bike_2022 = [citi_bike_mar22, citi_bike_jun22, citi_bike_sept22, citi_bike_dec22]"
   ]
  },
  {
   "cell_type": "code",
   "execution_count": 10,
   "metadata": {},
   "outputs": [
    {
     "data": {
      "text/plain": [
       "10483102"
      ]
     },
     "execution_count": 10,
     "metadata": {},
     "output_type": "execute_result"
    }
   ],
   "source": [
    "# check that the number of rows is the same\n",
    "citi_bike_merged = pd.concat(citi_bike_2022, axis=0, ignore_index = True)\n",
    "citi_bike_merged.shape[0]"
   ]
  },
  {
   "cell_type": "code",
   "execution_count": 11,
   "metadata": {},
   "outputs": [
    {
     "data": {
      "text/plain": [
       "ride_id               10483102\n",
       "rideable_type         10483102\n",
       "started_at            10483102\n",
       "ended_at              10483102\n",
       "start_station_name    10483065\n",
       "start_station_id      10483065\n",
       "end_station_name      10461746\n",
       "end_station_id        10461746\n",
       "start_lat             10483102\n",
       "start_lng             10483102\n",
       "end_lat               10472282\n",
       "end_lng               10472282\n",
       "member_casual         10483102\n",
       "dtype: int64"
      ]
     },
     "execution_count": 11,
     "metadata": {},
     "output_type": "execute_result"
    }
   ],
   "source": [
    "# check for nul values\n",
    "citi_bike_merged.count()"
   ]
  },
  {
   "cell_type": "code",
   "execution_count": 12,
   "metadata": {},
   "outputs": [
    {
     "data": {
      "text/plain": [
       "10461746"
      ]
     },
     "execution_count": 12,
     "metadata": {},
     "output_type": "execute_result"
    }
   ],
   "source": [
    "# drop null values\n",
    "citi_bike_merged = citi_bike_merged.dropna()\n",
    "citi_bike_merged.shape[0]"
   ]
  },
  {
   "cell_type": "code",
   "execution_count": 13,
   "metadata": {},
   "outputs": [
    {
     "data": {
      "text/plain": [
       "ride_id                object\n",
       "rideable_type          object\n",
       "started_at             object\n",
       "ended_at               object\n",
       "start_station_name     object\n",
       "start_station_id       object\n",
       "end_station_name       object\n",
       "end_station_id         object\n",
       "start_lat             float64\n",
       "start_lng             float64\n",
       "end_lat               float64\n",
       "end_lng               float64\n",
       "member_casual          object\n",
       "dtype: object"
      ]
     },
     "execution_count": 13,
     "metadata": {},
     "output_type": "execute_result"
    }
   ],
   "source": [
    "# check the datatypes\n",
    "citi_bike_merged.dtypes"
   ]
  },
  {
   "cell_type": "code",
   "execution_count": 14,
   "metadata": {},
   "outputs": [
    {
     "data": {
      "text/plain": [
       "array(['electric_bike', 'classic_bike', 'docked_bike'], dtype=object)"
      ]
     },
     "execution_count": 14,
     "metadata": {},
     "output_type": "execute_result"
    }
   ],
   "source": [
    "citi_bike_merged[\"rideable_type\"].unique()"
   ]
  },
  {
   "cell_type": "code",
   "execution_count": 15,
   "metadata": {},
   "outputs": [
    {
     "data": {
      "text/plain": [
       "array(['Washington St & Barrow St', '1 Ave & E 110 St',\n",
       "       'Crescent St & Broadway', ..., 'E 85 St & East End Ave',\n",
       "       'Herkimer St & Eastern Pkwy', 'Troy Ave & Park Pl'], dtype=object)"
      ]
     },
     "execution_count": 15,
     "metadata": {},
     "output_type": "execute_result"
    }
   ],
   "source": [
    "citi_bike_merged[\"start_station_name\"].unique()"
   ]
  },
  {
   "cell_type": "code",
   "execution_count": 16,
   "metadata": {},
   "outputs": [
    {
     "data": {
      "text/plain": [
       "array(['University Pl & E 14 St', 'W 11 St & 6 Ave',\n",
       "       'E 110 St & Madison Ave', ..., 'Brooklyn Ave & Dean St',\n",
       "       'Journal Square', 'Eastern Pkwy & Troy Ave'], dtype=object)"
      ]
     },
     "execution_count": 16,
     "metadata": {},
     "output_type": "execute_result"
    }
   ],
   "source": [
    "citi_bike_merged[\"end_station_name\"].unique()"
   ]
  },
  {
   "cell_type": "code",
   "execution_count": 17,
   "metadata": {},
   "outputs": [
    {
     "data": {
      "text/plain": [
       "array(['member', 'casual'], dtype=object)"
      ]
     },
     "execution_count": 17,
     "metadata": {},
     "output_type": "execute_result"
    }
   ],
   "source": [
    "citi_bike_merged[\"member_casual\"].unique()"
   ]
  },
  {
   "cell_type": "code",
   "execution_count": 18,
   "metadata": {},
   "outputs": [],
   "source": [
    "citi_bike_merged.to_csv(r'Resources/citi_bike_merged.csv', index = False)"
   ]
  }
 ],
 "metadata": {
  "kernelspec": {
   "display_name": "base",
   "language": "python",
   "name": "python3"
  },
  "language_info": {
   "codemirror_mode": {
    "name": "ipython",
    "version": 3
   },
   "file_extension": ".py",
   "mimetype": "text/x-python",
   "name": "python",
   "nbconvert_exporter": "python",
   "pygments_lexer": "ipython3",
   "version": "3.9.13"
  },
  "orig_nbformat": 4
 },
 "nbformat": 4,
 "nbformat_minor": 2
}
